{
 "cells": [
  {
   "cell_type": "markdown",
   "id": "72bf9a15",
   "metadata": {},
   "source": [
    "# Data Science Tools and Ecosystem"
   ]
  },
  {
   "cell_type": "markdown",
   "id": "0a6232e3",
   "metadata": {},
   "source": [
    "In this notebook, Data Science Tools and Ecosystem are summarized. This notebook consists of the final assignment for the IBM course 'Tools for Data Science'."
   ]
  },
  {
   "cell_type": "markdown",
   "id": "8e174869",
   "metadata": {},
   "source": [
    "**Objectives:**\n",
    "- list popular languages for Data Science\n",
    "- list common libraries used in Data Science\n",
    "- give examples of open source development environments\n",
    "- give examples of arithmetic expressions"
   ]
  },
  {
   "cell_type": "markdown",
   "id": "d5667b8e",
   "metadata": {},
   "source": [
    "Some of the commonly used **languages** by Data Scientists are:\n",
    "1. Python\n",
    "2. R\n",
    "3. SQL\n",
    "4. Scala\n",
    "5. Java\n",
    "6. C++\n",
    "7. Julia"
   ]
  },
  {
   "cell_type": "markdown",
   "id": "81c28ad3",
   "metadata": {},
   "source": [
    "Some of the commonly used (Python) **libraries** used by Data Scientists are:\n",
    "1. Pandas (Scientific computing)\n",
    "2. Numpy (Scientific computing)\n",
    "3. Matplotlib (Data Visualization)\n",
    "4. Seaborn (Data Visualization)\n",
    "5. Scikit-learn (Machine Learning)\n",
    "6. Keras (Deep Learning)\n",
    "7. Tensorflow (Deep Learning)\n",
    "8. PyTorch (Deep Learning)"
   ]
  },
  {
   "cell_type": "markdown",
   "id": "05090741",
   "metadata": {},
   "source": [
    "In the table below, some **open source development environments** are listed.\n",
    "\n",
    "|Data Science Tools|\n",
    "|--|\n",
    "|Jupyter Notebook|\n",
    "|RStudio|\n",
    "|Spyder|\n"
   ]
  },
  {
   "cell_type": "markdown",
   "id": "e61661d7",
   "metadata": {},
   "source": [
    "### Below are a few examples of evaluating arithmetic expressions in Python"
   ]
  },
  {
   "cell_type": "code",
   "execution_count": 1,
   "id": "493edb6c",
   "metadata": {},
   "outputs": [
    {
     "data": {
      "text/plain": [
       "17"
      ]
     },
     "execution_count": 1,
     "metadata": {},
     "output_type": "execute_result"
    }
   ],
   "source": [
    "# This a simple arithmetic expression to mutiply then add integers\n",
    "(3*4)+5"
   ]
  },
  {
   "cell_type": "code",
   "execution_count": 2,
   "id": "ebc1d36d",
   "metadata": {},
   "outputs": [
    {
     "data": {
      "text/plain": [
       "3.3333333333333335"
      ]
     },
     "execution_count": 2,
     "metadata": {},
     "output_type": "execute_result"
    }
   ],
   "source": [
    "# This will convert 200 minutes to hours by diving by 60\n",
    "200/60"
   ]
  },
  {
   "cell_type": "markdown",
   "id": "817fabfc",
   "metadata": {},
   "source": [
    "## Author\n",
    "\n",
    "Ana Beatriz Silva"
   ]
  },
  {
   "cell_type": "code",
   "execution_count": null,
   "id": "18a06e77",
   "metadata": {},
   "outputs": [],
   "source": []
  }
 ],
 "metadata": {
  "kernelspec": {
   "display_name": "Python 3 (ipykernel)",
   "language": "python",
   "name": "python3"
  },
  "language_info": {
   "codemirror_mode": {
    "name": "ipython",
    "version": 3
   },
   "file_extension": ".py",
   "mimetype": "text/x-python",
   "name": "python",
   "nbconvert_exporter": "python",
   "pygments_lexer": "ipython3",
   "version": "3.9.13"
  }
 },
 "nbformat": 4,
 "nbformat_minor": 5
}
